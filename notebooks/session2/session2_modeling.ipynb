{
 "cells": [
  {
   "cell_type": "markdown",
   "metadata": {},
   "source": [
    "# Session 2: Modelado de Optimizaci\u00f3n - Habitat Adaptation v0\n\n**Objetivo:** Dise\u00f1ar y resolver un modelo MILP.\n\n**Fecha:** 29 de octubre de 2025"
   ]
  },
  {
   "cell_type": "markdown",
   "metadata": {},
   "source": [
    "## 1. Importaciones"
   ]
  },
  {
   "cell_type": "code",
   "execution_count": null,
   "metadata": {},
   "outputs": [],
   "source": [
    "import sys, os, json\nfrom datetime import datetime\nimport pandas as pd\nimport numpy as np\nimport geopandas as gpd\nimport matplotlib.pyplot as plt\nimport warnings\nwarnings.filterwarnings('ignore')\n\nfrom pyomo.environ import *\nfrom pyomo.opt import SolverFactory, SolverStatus, TerminationCondition\n\nprint('\u2713 Librer\u00edas importadas')"
   ]
  },
  {
   "cell_type": "markdown",
   "metadata": {},
   "source": [
    "## 2. Carga de Dataset"
   ]
  },
  {
   "cell_type": "code",
   "execution_count": null,
   "metadata": {},
   "outputs": [],
   "source": [
    "dataset_path = '../../data/dataset_processed.geojson'\ngdf = gpd.read_file(dataset_path)\nprint(f'\u2713 Dataset cargado: {len(gdf)} celdas')\nprint(f'\u2713 Columnas: {len(gdf.columns)}')\nprint(gdf[['grid_id', 'cost_adaptation_atelerix', 'has_atelerix_algirus']].head())"
   ]
  },
  {
   "cell_type": "markdown",
   "metadata": {},
   "source": [
    "## 3. Par\u00e1metros del Modelo"
   ]
  },
  {
   "cell_type": "code",
   "execution_count": null,
   "metadata": {},
   "outputs": [],
   "source": [
    "SPECIES = {\n    'atelerix': 'has_atelerix_algirus',\n    'martes': 'has_martes_martes',\n    'eliomys': 'has_eliomys_quercinus',\n    'oryctolagus': 'has_oryctolagus_cuniculus'\n}\n\nCOST_COLS = {\n    'atelerix': 'cost_adaptation_atelerix',\n    'martes': 'cost_adaptation_martes',\n    'eliomys': 'cost_adaptation_eliomys',\n    'oryctolagus': 'cost_adaptation_oryctolagus'\n}\n\ncells = gdf['grid_id'].tolist()\nspecies_list = list(SPECIES.keys())\n\nh, c = {}, {}\nfor idx, row in gdf.iterrows():\n    cell_id = row['grid_id']\n    for sp in species_list:\n        h[(cell_id, sp)] = int(row[SPECIES[sp]])\n        c[(cell_id, sp)] = float(row[COST_COLS[sp]])\n\nprint(f'\u2713 Celdas: {len(cells)}, Especies: {species_list}')\nprint(f'\u2713 H\u00e1bitats actuales: {sum(h.values())}')\nprint(f'\u2713 Rango de costes: [{min(c.values()):.2f}, {max(c.values()):.2f}]')"
   ]
  },
  {
   "cell_type": "markdown",
   "metadata": {},
   "source": [
    "## 4. Definici\u00f3n del Modelo MILP"
   ]
  },
  {
   "cell_type": "code",
   "execution_count": null,
   "metadata": {},
   "outputs": [],
   "source": [
    "def create_habitat_model(cells, species_list, c, h, budget, weights=None):\n    if weights is None:\n        weights = {sp: 1.0 for sp in species_list}\n    \n    model = ConcreteModel()\n    model.CELLS = Set(initialize=cells)\n    model.SPECIES = Set(initialize=species_list)\n    model.budget = Param(initialize=budget)\n    model.cost = Param(model.CELLS, model.SPECIES, initialize=c, default=0)\n    model.habitat = Param(model.CELLS, model.SPECIES, initialize=h, default=0)\n    model.weight = Param(model.SPECIES, initialize=weights, default=1.0)\n    model.x = Var(model.CELLS, model.SPECIES, within=Binary, initialize=0)\n    \n    def objective_expr(model):\n        return sum(model.weight[s] * (model.habitat[i, s] + model.x[i, s])\n                  for i in model.CELLS for s in model.SPECIES)\n    model.obj = Objective(expr=objective_expr, sense=maximize)\n    \n    def budget_constraint(model):\n        return sum(model.cost[i, s] * model.x[i, s]\n                  for i in model.CELLS for s in model.SPECIES) <= model.budget\n    model.budget_constr = Constraint(rule=budget_constraint)\n    \n    def no_duplication(model, i, s):\n        return model.x[i, s] <= (1 - model.habitat[i, s])\n    model.no_dup_constr = Constraint(model.CELLS, model.SPECIES, rule=no_duplication)\n    \n    return model\n\nprint('\u2713 Funci\u00f3n de modelo definida')"
   ]
  },
  {
   "cell_type": "markdown",
   "metadata": {},
   "source": [
    "## 5. Resoluci\u00f3n del Modelo"
   ]
  },
  {
   "cell_type": "code",
   "execution_count": null,
   "metadata": {},
   "outputs": [],
   "source": [
    "BUDGET = 500.0\nweights = {'atelerix': 1.0, 'martes': 1.2, 'eliomys': 1.5, 'oryctolagus': 0.8}\n\nprint(f'Presupuesto: {BUDGET}\\nPesos: {weights}\\n')\n\nmodel = create_habitat_model(cells, species_list, c, h, BUDGET, weights)\nprint('\u2713 Modelo instanciado')\n\nprint('\ud83d\udd04 Resolviendo...')\nsolver = SolverFactory('glpk')\nresults = solver.solve(model, tee=False)\n\nif results.solver.termination_condition == TerminationCondition.optimal:\n    print('\u2713 SOLUCI\u00d3N \u00d3PTIMA ENCONTRADA')\n    is_optimal = True\nelse:\n    print('\u26a0 Soluci\u00f3n factible')\n    is_optimal = False\n\nprint(f'Valor objetivo: {value(model.obj):.2f}')"
   ]
  },
  {
   "cell_type": "markdown",
   "metadata": {},
   "source": [
    "## 6. Extracci\u00f3n de Resultados"
   ]
  },
  {
   "cell_type": "code",
   "execution_count": null,
   "metadata": {},
   "outputs": [],
   "source": [
    "adaptations = []\nfor i in model.CELLS:\n    for s in model.SPECIES:\n        if value(model.x[i, s]) > 0.5:\n            adaptations.append({\n                'grid_id': i, 'species': s, 'cost': c[(i, s)],\n                'current_habitat': h[(i, s)]\n            })\n\nadaptations_df = pd.DataFrame(adaptations)\ntotal_cost = adaptations_df['cost'].sum()\n\nprint(f'\u2713 Celdas adaptadas: {len(adaptations_df)}')\nprint(f'Coste total: {total_cost:.2f} / {BUDGET:.2f}')\nprint(f'Eficiencia: {(total_cost/BUDGET)*100:.1f}%')"
   ]
  },
  {
   "cell_type": "markdown",
   "metadata": {},
   "source": [
    "## 7. An\u00e1lisis por Especie"
   ]
  },
  {
   "cell_type": "code",
   "execution_count": null,
   "metadata": {},
   "outputs": [],
   "source": [
    "print('DESGLOSE POR ESPECIE:')\nfor sp in species_list:\n    sp_data = adaptations_df[adaptations_df['species'] == sp]\n    current = sum(h.get((i, sp), 0) for i in cells)\n    adapted = len(sp_data)\n    total = current + adapted\n    cost_sp = sp_data['cost'].sum()\n    print(f'\\n{sp}: {current} + {adapted} = {total} ({(total/len(cells)*100):.1f}%)')\n    print(f'  Coste: {cost_sp:.2f}')"
   ]
  },
  {
   "cell_type": "markdown",
   "metadata": {},
   "source": [
    "## 8. Guardado de Resultados"
   ]
  },
  {
   "cell_type": "code",
   "execution_count": null,
   "metadata": {},
   "outputs": [],
   "source": [
    "output_dir = '../../data'\nos.makedirs(output_dir, exist_ok=True)\n\nadaptations_df.to_csv(f'{output_dir}/adaptations_detailed_v0.csv', index=False)\nprint(f'\u2713 Guardado: {output_dir}/adaptations_detailed_v0.csv')\n\nsolution_metadata = {\n    'session': 'Session 2',\n    'model_version': 'v0_habitat_adaptation',\n    'date': datetime.now().isoformat(),\n    'budget': BUDGET,\n    'objective_value': float(value(model.obj)),\n    'total_cost': float(total_cost),\n    'n_adaptations': len(adaptations_df),\n    'solution_type': 'optimal' if is_optimal else 'feasible'\n}\n\nwith open(f'{output_dir}/solution_metadata_v0.json', 'w') as f:\n    json.dump(solution_metadata, f, indent=2)\nprint(f'\u2713 Guardado: {output_dir}/solution_metadata_v0.json')\n\nprint('\\n\u2705 Session 2 completada!')"
   ]
  }
 ],
 "metadata": {
  "kernelspec": {
   "display_name": "Python 3",
   "language": "python",
   "name": "python3"
  },
  "language_info": {
   "name": "python",
   "version": "3.12.0"
  }
 },
 "nbformat": 4,
 "nbformat_minor": 4
}