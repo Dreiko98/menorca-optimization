{
 "cells": [
  {
   "cell_type": "markdown",
   "id": "c9a5d3ca",
   "metadata": {
    "tags": [
     "papermill-error-cell-tag"
    ]
   },
   "source": [
    "<span style=\"color:red; font-family:Helvetica Neue, Helvetica, Arial, sans-serif; font-size:2em;\">An Exception was encountered at '<a href=\"#papermill-error-cell\">In [2]</a>'.</span>"
   ]
  },
  {
   "cell_type": "markdown",
   "id": "2197cba5",
   "metadata": {
    "papermill": {
     "duration": 0.01171,
     "end_time": "2025-10-29T08:55:47.861391",
     "exception": false,
     "start_time": "2025-10-29T08:55:47.849681",
     "status": "completed"
    },
    "tags": []
   },
   "source": [
    "# Session 2: Modelado de Optimización - Habitat Adaptation v0\n",
    "\n",
    "**Objetivo:** Diseñar y resolver un modelo MILP.\n",
    "\n",
    "**Fecha:** 29 de octubre de 2025"
   ]
  },
  {
   "cell_type": "markdown",
   "id": "988a093e",
   "metadata": {
    "papermill": {
     "duration": 0.007458,
     "end_time": "2025-10-29T08:55:47.876476",
     "exception": false,
     "start_time": "2025-10-29T08:55:47.869018",
     "status": "completed"
    },
    "tags": []
   },
   "source": [
    "## 1. Importaciones"
   ]
  },
  {
   "cell_type": "code",
   "execution_count": 1,
   "id": "20d71127",
   "metadata": {
    "execution": {
     "iopub.execute_input": "2025-10-29T08:55:47.885719Z",
     "iopub.status.busy": "2025-10-29T08:55:47.885346Z",
     "iopub.status.idle": "2025-10-29T08:55:48.580968Z",
     "shell.execute_reply": "2025-10-29T08:55:48.580216Z"
    },
    "papermill": {
     "duration": 0.700956,
     "end_time": "2025-10-29T08:55:48.581569",
     "exception": false,
     "start_time": "2025-10-29T08:55:47.880613",
     "status": "completed"
    },
    "tags": []
   },
   "outputs": [
    {
     "name": "stdout",
     "output_type": "stream",
     "text": [
      "✓ Librerías importadas\n"
     ]
    }
   ],
   "source": [
    "import sys, os, json\n",
    "from datetime import datetime\n",
    "import pandas as pd\n",
    "import numpy as np\n",
    "import geopandas as gpd\n",
    "import matplotlib.pyplot as plt\n",
    "import warnings\n",
    "warnings.filterwarnings('ignore')\n",
    "\n",
    "from pyomo.environ import *\n",
    "from pyomo.opt import SolverFactory, SolverStatus, TerminationCondition\n",
    "\n",
    "print('✓ Librerías importadas')"
   ]
  },
  {
   "cell_type": "markdown",
   "id": "f1edac3e",
   "metadata": {
    "papermill": {
     "duration": 0.023228,
     "end_time": "2025-10-29T08:55:48.607130",
     "exception": false,
     "start_time": "2025-10-29T08:55:48.583902",
     "status": "completed"
    },
    "tags": []
   },
   "source": [
    "## 2. Carga de Dataset"
   ]
  },
  {
   "cell_type": "markdown",
   "id": "f20d555c",
   "metadata": {
    "tags": [
     "papermill-error-cell-tag"
    ]
   },
   "source": [
    "<span id=\"papermill-error-cell\" style=\"color:red; font-family:Helvetica Neue, Helvetica, Arial, sans-serif; font-size:2em;\">Execution using papermill encountered an exception here and stopped:</span>"
   ]
  },
  {
   "cell_type": "code",
   "execution_count": 2,
   "id": "2fc01fc8",
   "metadata": {
    "execution": {
     "iopub.execute_input": "2025-10-29T08:55:48.613707Z",
     "iopub.status.busy": "2025-10-29T08:55:48.613317Z",
     "iopub.status.idle": "2025-10-29T08:55:48.893063Z",
     "shell.execute_reply": "2025-10-29T08:55:48.892308Z"
    },
    "papermill": {
     "duration": 0.284188,
     "end_time": "2025-10-29T08:55:48.893821",
     "exception": true,
     "start_time": "2025-10-29T08:55:48.609633",
     "status": "failed"
    },
    "tags": []
   },
   "outputs": [
    {
     "ename": "DataSourceError",
     "evalue": "../../data/dataset_processed.geojson: No such file or directory",
     "output_type": "error",
     "traceback": [
      "\u001b[31m---------------------------------------------------------------------------\u001b[39m",
      "\u001b[31mDataSourceError\u001b[39m                           Traceback (most recent call last)",
      "\u001b[36mCell\u001b[39m\u001b[36m \u001b[39m\u001b[32mIn[2]\u001b[39m\u001b[32m, line 2\u001b[39m\n\u001b[32m      1\u001b[39m dataset_path = \u001b[33m'\u001b[39m\u001b[33m../../data/dataset_processed.geojson\u001b[39m\u001b[33m'\u001b[39m\n\u001b[32m----> \u001b[39m\u001b[32m2\u001b[39m gdf = \u001b[43mgpd\u001b[49m\u001b[43m.\u001b[49m\u001b[43mread_file\u001b[49m\u001b[43m(\u001b[49m\u001b[43mdataset_path\u001b[49m\u001b[43m)\u001b[49m\n\u001b[32m      3\u001b[39m \u001b[38;5;28mprint\u001b[39m(\u001b[33mf\u001b[39m\u001b[33m'\u001b[39m\u001b[33m✓ Dataset cargado: \u001b[39m\u001b[38;5;132;01m{\u001b[39;00m\u001b[38;5;28mlen\u001b[39m(gdf)\u001b[38;5;132;01m}\u001b[39;00m\u001b[33m celdas\u001b[39m\u001b[33m'\u001b[39m)\n\u001b[32m      4\u001b[39m \u001b[38;5;28mprint\u001b[39m(\u001b[33mf\u001b[39m\u001b[33m'\u001b[39m\u001b[33m✓ Columnas: \u001b[39m\u001b[38;5;132;01m{\u001b[39;00m\u001b[38;5;28mlen\u001b[39m(gdf.columns)\u001b[38;5;132;01m}\u001b[39;00m\u001b[33m'\u001b[39m)\n",
      "\u001b[36mFile \u001b[39m\u001b[32m~/Escritorio/asuntos internos/menorca-optimization/.venv/lib/python3.12/site-packages/geopandas/io/file.py:316\u001b[39m, in \u001b[36m_read_file\u001b[39m\u001b[34m(filename, bbox, mask, columns, rows, engine, **kwargs)\u001b[39m\n\u001b[32m    313\u001b[39m             filename = response.read()\n\u001b[32m    315\u001b[39m \u001b[38;5;28;01mif\u001b[39;00m engine == \u001b[33m\"\u001b[39m\u001b[33mpyogrio\u001b[39m\u001b[33m\"\u001b[39m:\n\u001b[32m--> \u001b[39m\u001b[32m316\u001b[39m     \u001b[38;5;28;01mreturn\u001b[39;00m \u001b[43m_read_file_pyogrio\u001b[49m\u001b[43m(\u001b[49m\n\u001b[32m    317\u001b[39m \u001b[43m        \u001b[49m\u001b[43mfilename\u001b[49m\u001b[43m,\u001b[49m\u001b[43m \u001b[49m\u001b[43mbbox\u001b[49m\u001b[43m=\u001b[49m\u001b[43mbbox\u001b[49m\u001b[43m,\u001b[49m\u001b[43m \u001b[49m\u001b[43mmask\u001b[49m\u001b[43m=\u001b[49m\u001b[43mmask\u001b[49m\u001b[43m,\u001b[49m\u001b[43m \u001b[49m\u001b[43mcolumns\u001b[49m\u001b[43m=\u001b[49m\u001b[43mcolumns\u001b[49m\u001b[43m,\u001b[49m\u001b[43m \u001b[49m\u001b[43mrows\u001b[49m\u001b[43m=\u001b[49m\u001b[43mrows\u001b[49m\u001b[43m,\u001b[49m\u001b[43m \u001b[49m\u001b[43m*\u001b[49m\u001b[43m*\u001b[49m\u001b[43mkwargs\u001b[49m\n\u001b[32m    318\u001b[39m \u001b[43m    \u001b[49m\u001b[43m)\u001b[49m\n\u001b[32m    320\u001b[39m \u001b[38;5;28;01melif\u001b[39;00m engine == \u001b[33m\"\u001b[39m\u001b[33mfiona\u001b[39m\u001b[33m\"\u001b[39m:\n\u001b[32m    321\u001b[39m     \u001b[38;5;28;01mif\u001b[39;00m pd.api.types.is_file_like(filename):\n",
      "\u001b[36mFile \u001b[39m\u001b[32m~/Escritorio/asuntos internos/menorca-optimization/.venv/lib/python3.12/site-packages/geopandas/io/file.py:576\u001b[39m, in \u001b[36m_read_file_pyogrio\u001b[39m\u001b[34m(path_or_bytes, bbox, mask, rows, **kwargs)\u001b[39m\n\u001b[32m    567\u001b[39m     warnings.warn(\n\u001b[32m    568\u001b[39m         \u001b[33m\"\u001b[39m\u001b[33mThe \u001b[39m\u001b[33m'\u001b[39m\u001b[33minclude_fields\u001b[39m\u001b[33m'\u001b[39m\u001b[33m and \u001b[39m\u001b[33m'\u001b[39m\u001b[33mignore_fields\u001b[39m\u001b[33m'\u001b[39m\u001b[33m keywords are deprecated, and \u001b[39m\u001b[33m\"\u001b[39m\n\u001b[32m    569\u001b[39m         \u001b[33m\"\u001b[39m\u001b[33mwill be removed in a future release. You can use the \u001b[39m\u001b[33m'\u001b[39m\u001b[33mcolumns\u001b[39m\u001b[33m'\u001b[39m\u001b[33m keyword \u001b[39m\u001b[33m\"\u001b[39m\n\u001b[32m   (...)\u001b[39m\u001b[32m    572\u001b[39m         stacklevel=\u001b[32m3\u001b[39m,\n\u001b[32m    573\u001b[39m     )\n\u001b[32m    574\u001b[39m     kwargs[\u001b[33m\"\u001b[39m\u001b[33mcolumns\u001b[39m\u001b[33m\"\u001b[39m] = kwargs.pop(\u001b[33m\"\u001b[39m\u001b[33minclude_fields\u001b[39m\u001b[33m\"\u001b[39m)\n\u001b[32m--> \u001b[39m\u001b[32m576\u001b[39m \u001b[38;5;28;01mreturn\u001b[39;00m \u001b[43mpyogrio\u001b[49m\u001b[43m.\u001b[49m\u001b[43mread_dataframe\u001b[49m\u001b[43m(\u001b[49m\u001b[43mpath_or_bytes\u001b[49m\u001b[43m,\u001b[49m\u001b[43m \u001b[49m\u001b[43mbbox\u001b[49m\u001b[43m=\u001b[49m\u001b[43mbbox\u001b[49m\u001b[43m,\u001b[49m\u001b[43m \u001b[49m\u001b[43m*\u001b[49m\u001b[43m*\u001b[49m\u001b[43mkwargs\u001b[49m\u001b[43m)\u001b[49m\n",
      "\u001b[36mFile \u001b[39m\u001b[32m~/Escritorio/asuntos internos/menorca-optimization/.venv/lib/python3.12/site-packages/pyogrio/geopandas.py:275\u001b[39m, in \u001b[36mread_dataframe\u001b[39m\u001b[34m(path_or_buffer, layer, encoding, columns, read_geometry, force_2d, skip_features, max_features, where, bbox, mask, fids, sql, sql_dialect, fid_as_index, use_arrow, on_invalid, arrow_to_pandas_kwargs, **kwargs)\u001b[39m\n\u001b[32m    270\u001b[39m \u001b[38;5;28;01mif\u001b[39;00m \u001b[38;5;129;01mnot\u001b[39;00m use_arrow:\n\u001b[32m    271\u001b[39m     \u001b[38;5;66;03m# For arrow, datetimes are read as is.\u001b[39;00m\n\u001b[32m    272\u001b[39m     \u001b[38;5;66;03m# For numpy IO, datetimes are read as string values to preserve timezone info\u001b[39;00m\n\u001b[32m    273\u001b[39m     \u001b[38;5;66;03m# as numpy does not directly support timezones.\u001b[39;00m\n\u001b[32m    274\u001b[39m     kwargs[\u001b[33m\"\u001b[39m\u001b[33mdatetime_as_string\u001b[39m\u001b[33m\"\u001b[39m] = \u001b[38;5;28;01mTrue\u001b[39;00m\n\u001b[32m--> \u001b[39m\u001b[32m275\u001b[39m result = \u001b[43mread_func\u001b[49m\u001b[43m(\u001b[49m\n\u001b[32m    276\u001b[39m \u001b[43m    \u001b[49m\u001b[43mpath_or_buffer\u001b[49m\u001b[43m,\u001b[49m\n\u001b[32m    277\u001b[39m \u001b[43m    \u001b[49m\u001b[43mlayer\u001b[49m\u001b[43m=\u001b[49m\u001b[43mlayer\u001b[49m\u001b[43m,\u001b[49m\n\u001b[32m    278\u001b[39m \u001b[43m    \u001b[49m\u001b[43mencoding\u001b[49m\u001b[43m=\u001b[49m\u001b[43mencoding\u001b[49m\u001b[43m,\u001b[49m\n\u001b[32m    279\u001b[39m \u001b[43m    \u001b[49m\u001b[43mcolumns\u001b[49m\u001b[43m=\u001b[49m\u001b[43mcolumns\u001b[49m\u001b[43m,\u001b[49m\n\u001b[32m    280\u001b[39m \u001b[43m    \u001b[49m\u001b[43mread_geometry\u001b[49m\u001b[43m=\u001b[49m\u001b[43mread_geometry\u001b[49m\u001b[43m,\u001b[49m\n\u001b[32m    281\u001b[39m \u001b[43m    \u001b[49m\u001b[43mforce_2d\u001b[49m\u001b[43m=\u001b[49m\u001b[43mgdal_force_2d\u001b[49m\u001b[43m,\u001b[49m\n\u001b[32m    282\u001b[39m \u001b[43m    \u001b[49m\u001b[43mskip_features\u001b[49m\u001b[43m=\u001b[49m\u001b[43mskip_features\u001b[49m\u001b[43m,\u001b[49m\n\u001b[32m    283\u001b[39m \u001b[43m    \u001b[49m\u001b[43mmax_features\u001b[49m\u001b[43m=\u001b[49m\u001b[43mmax_features\u001b[49m\u001b[43m,\u001b[49m\n\u001b[32m    284\u001b[39m \u001b[43m    \u001b[49m\u001b[43mwhere\u001b[49m\u001b[43m=\u001b[49m\u001b[43mwhere\u001b[49m\u001b[43m,\u001b[49m\n\u001b[32m    285\u001b[39m \u001b[43m    \u001b[49m\u001b[43mbbox\u001b[49m\u001b[43m=\u001b[49m\u001b[43mbbox\u001b[49m\u001b[43m,\u001b[49m\n\u001b[32m    286\u001b[39m \u001b[43m    \u001b[49m\u001b[43mmask\u001b[49m\u001b[43m=\u001b[49m\u001b[43mmask\u001b[49m\u001b[43m,\u001b[49m\n\u001b[32m    287\u001b[39m \u001b[43m    \u001b[49m\u001b[43mfids\u001b[49m\u001b[43m=\u001b[49m\u001b[43mfids\u001b[49m\u001b[43m,\u001b[49m\n\u001b[32m    288\u001b[39m \u001b[43m    \u001b[49m\u001b[43msql\u001b[49m\u001b[43m=\u001b[49m\u001b[43msql\u001b[49m\u001b[43m,\u001b[49m\n\u001b[32m    289\u001b[39m \u001b[43m    \u001b[49m\u001b[43msql_dialect\u001b[49m\u001b[43m=\u001b[49m\u001b[43msql_dialect\u001b[49m\u001b[43m,\u001b[49m\n\u001b[32m    290\u001b[39m \u001b[43m    \u001b[49m\u001b[43mreturn_fids\u001b[49m\u001b[43m=\u001b[49m\u001b[43mfid_as_index\u001b[49m\u001b[43m,\u001b[49m\n\u001b[32m    291\u001b[39m \u001b[43m    \u001b[49m\u001b[43m*\u001b[49m\u001b[43m*\u001b[49m\u001b[43mkwargs\u001b[49m\u001b[43m,\u001b[49m\n\u001b[32m    292\u001b[39m \u001b[43m\u001b[49m\u001b[43m)\u001b[49m\n\u001b[32m    294\u001b[39m \u001b[38;5;28;01mif\u001b[39;00m use_arrow:\n\u001b[32m    295\u001b[39m     \u001b[38;5;28;01mimport\u001b[39;00m\u001b[38;5;250m \u001b[39m\u001b[34;01mpyarrow\u001b[39;00m\u001b[38;5;250m \u001b[39m\u001b[38;5;28;01mas\u001b[39;00m\u001b[38;5;250m \u001b[39m\u001b[34;01mpa\u001b[39;00m\n",
      "\u001b[36mFile \u001b[39m\u001b[32m~/Escritorio/asuntos internos/menorca-optimization/.venv/lib/python3.12/site-packages/pyogrio/raw.py:198\u001b[39m, in \u001b[36mread\u001b[39m\u001b[34m(path_or_buffer, layer, encoding, columns, read_geometry, force_2d, skip_features, max_features, where, bbox, mask, fids, sql, sql_dialect, return_fids, datetime_as_string, **kwargs)\u001b[39m\n\u001b[32m     59\u001b[39m \u001b[38;5;250m\u001b[39m\u001b[33;03m\"\"\"Read OGR data source into numpy arrays.\u001b[39;00m\n\u001b[32m     60\u001b[39m \n\u001b[32m     61\u001b[39m \u001b[33;03mIMPORTANT: non-linear geometry types (e.g., MultiSurface) are converted\u001b[39;00m\n\u001b[32m   (...)\u001b[39m\u001b[32m    194\u001b[39m \n\u001b[32m    195\u001b[39m \u001b[33;03m\"\"\"\u001b[39;00m\n\u001b[32m    196\u001b[39m dataset_kwargs = _preprocess_options_key_value(kwargs) \u001b[38;5;28;01mif\u001b[39;00m kwargs \u001b[38;5;28;01melse\u001b[39;00m {}\n\u001b[32m--> \u001b[39m\u001b[32m198\u001b[39m \u001b[38;5;28;01mreturn\u001b[39;00m \u001b[43mogr_read\u001b[49m\u001b[43m(\u001b[49m\n\u001b[32m    199\u001b[39m \u001b[43m    \u001b[49m\u001b[43mget_vsi_path_or_buffer\u001b[49m\u001b[43m(\u001b[49m\u001b[43mpath_or_buffer\u001b[49m\u001b[43m)\u001b[49m\u001b[43m,\u001b[49m\n\u001b[32m    200\u001b[39m \u001b[43m    \u001b[49m\u001b[43mlayer\u001b[49m\u001b[43m=\u001b[49m\u001b[43mlayer\u001b[49m\u001b[43m,\u001b[49m\n\u001b[32m    201\u001b[39m \u001b[43m    \u001b[49m\u001b[43mencoding\u001b[49m\u001b[43m=\u001b[49m\u001b[43mencoding\u001b[49m\u001b[43m,\u001b[49m\n\u001b[32m    202\u001b[39m \u001b[43m    \u001b[49m\u001b[43mcolumns\u001b[49m\u001b[43m=\u001b[49m\u001b[43mcolumns\u001b[49m\u001b[43m,\u001b[49m\n\u001b[32m    203\u001b[39m \u001b[43m    \u001b[49m\u001b[43mread_geometry\u001b[49m\u001b[43m=\u001b[49m\u001b[43mread_geometry\u001b[49m\u001b[43m,\u001b[49m\n\u001b[32m    204\u001b[39m \u001b[43m    \u001b[49m\u001b[43mforce_2d\u001b[49m\u001b[43m=\u001b[49m\u001b[43mforce_2d\u001b[49m\u001b[43m,\u001b[49m\n\u001b[32m    205\u001b[39m \u001b[43m    \u001b[49m\u001b[43mskip_features\u001b[49m\u001b[43m=\u001b[49m\u001b[43mskip_features\u001b[49m\u001b[43m,\u001b[49m\n\u001b[32m    206\u001b[39m \u001b[43m    \u001b[49m\u001b[43mmax_features\u001b[49m\u001b[43m=\u001b[49m\u001b[43mmax_features\u001b[49m\u001b[43m \u001b[49m\u001b[38;5;129;43;01mor\u001b[39;49;00m\u001b[43m \u001b[49m\u001b[32;43m0\u001b[39;49m\u001b[43m,\u001b[49m\n\u001b[32m    207\u001b[39m \u001b[43m    \u001b[49m\u001b[43mwhere\u001b[49m\u001b[43m=\u001b[49m\u001b[43mwhere\u001b[49m\u001b[43m,\u001b[49m\n\u001b[32m    208\u001b[39m \u001b[43m    \u001b[49m\u001b[43mbbox\u001b[49m\u001b[43m=\u001b[49m\u001b[43mbbox\u001b[49m\u001b[43m,\u001b[49m\n\u001b[32m    209\u001b[39m \u001b[43m    \u001b[49m\u001b[43mmask\u001b[49m\u001b[43m=\u001b[49m\u001b[43m_mask_to_wkb\u001b[49m\u001b[43m(\u001b[49m\u001b[43mmask\u001b[49m\u001b[43m)\u001b[49m\u001b[43m,\u001b[49m\n\u001b[32m    210\u001b[39m \u001b[43m    \u001b[49m\u001b[43mfids\u001b[49m\u001b[43m=\u001b[49m\u001b[43mfids\u001b[49m\u001b[43m,\u001b[49m\n\u001b[32m    211\u001b[39m \u001b[43m    \u001b[49m\u001b[43msql\u001b[49m\u001b[43m=\u001b[49m\u001b[43msql\u001b[49m\u001b[43m,\u001b[49m\n\u001b[32m    212\u001b[39m \u001b[43m    \u001b[49m\u001b[43msql_dialect\u001b[49m\u001b[43m=\u001b[49m\u001b[43msql_dialect\u001b[49m\u001b[43m,\u001b[49m\n\u001b[32m    213\u001b[39m \u001b[43m    \u001b[49m\u001b[43mreturn_fids\u001b[49m\u001b[43m=\u001b[49m\u001b[43mreturn_fids\u001b[49m\u001b[43m,\u001b[49m\n\u001b[32m    214\u001b[39m \u001b[43m    \u001b[49m\u001b[43mdataset_kwargs\u001b[49m\u001b[43m=\u001b[49m\u001b[43mdataset_kwargs\u001b[49m\u001b[43m,\u001b[49m\n\u001b[32m    215\u001b[39m \u001b[43m    \u001b[49m\u001b[43mdatetime_as_string\u001b[49m\u001b[43m=\u001b[49m\u001b[43mdatetime_as_string\u001b[49m\u001b[43m,\u001b[49m\n\u001b[32m    216\u001b[39m \u001b[43m\u001b[49m\u001b[43m)\u001b[49m\n",
      "\u001b[36mFile \u001b[39m\u001b[32mpyogrio/_io.pyx:1313\u001b[39m, in \u001b[36mpyogrio._io.ogr_read\u001b[39m\u001b[34m()\u001b[39m\n",
      "\u001b[36mFile \u001b[39m\u001b[32mpyogrio/_io.pyx:232\u001b[39m, in \u001b[36mpyogrio._io.ogr_open\u001b[39m\u001b[34m()\u001b[39m\n",
      "\u001b[31mDataSourceError\u001b[39m: ../../data/dataset_processed.geojson: No such file or directory"
     ]
    }
   ],
   "source": [
    "dataset_path = '../../data/dataset_processed.geojson'\n",
    "gdf = gpd.read_file(dataset_path)\n",
    "print(f'✓ Dataset cargado: {len(gdf)} celdas')\n",
    "print(f'✓ Columnas: {len(gdf.columns)}')\n",
    "print(gdf[['grid_id', 'cost_adaptation_atelerix', 'has_atelerix_algirus']].head())"
   ]
  },
  {
   "cell_type": "markdown",
   "id": "1b91cd99",
   "metadata": {
    "papermill": {
     "duration": null,
     "end_time": null,
     "exception": null,
     "start_time": null,
     "status": "pending"
    },
    "tags": []
   },
   "source": [
    "## 3. Parámetros del Modelo"
   ]
  },
  {
   "cell_type": "code",
   "execution_count": null,
   "id": "59f4efcb",
   "metadata": {
    "papermill": {
     "duration": null,
     "end_time": null,
     "exception": null,
     "start_time": null,
     "status": "pending"
    },
    "tags": []
   },
   "outputs": [],
   "source": [
    "SPECIES = {\n",
    "    'atelerix': 'has_atelerix_algirus',\n",
    "    'martes': 'has_martes_martes',\n",
    "    'eliomys': 'has_eliomys_quercinus',\n",
    "    'oryctolagus': 'has_oryctolagus_cuniculus'\n",
    "}\n",
    "\n",
    "COST_COLS = {\n",
    "    'atelerix': 'cost_adaptation_atelerix',\n",
    "    'martes': 'cost_adaptation_martes',\n",
    "    'eliomys': 'cost_adaptation_eliomys',\n",
    "    'oryctolagus': 'cost_adaptation_oryctolagus'\n",
    "}\n",
    "\n",
    "cells = gdf['grid_id'].tolist()\n",
    "species_list = list(SPECIES.keys())\n",
    "\n",
    "h, c = {}, {}\n",
    "for idx, row in gdf.iterrows():\n",
    "    cell_id = row['grid_id']\n",
    "    for sp in species_list:\n",
    "        h[(cell_id, sp)] = int(row[SPECIES[sp]])\n",
    "        c[(cell_id, sp)] = float(row[COST_COLS[sp]])\n",
    "\n",
    "print(f'✓ Celdas: {len(cells)}, Especies: {species_list}')\n",
    "print(f'✓ Hábitats actuales: {sum(h.values())}')\n",
    "print(f'✓ Rango de costes: [{min(c.values()):.2f}, {max(c.values()):.2f}]')"
   ]
  },
  {
   "cell_type": "markdown",
   "id": "058e8b4b",
   "metadata": {
    "papermill": {
     "duration": null,
     "end_time": null,
     "exception": null,
     "start_time": null,
     "status": "pending"
    },
    "tags": []
   },
   "source": [
    "## 4. Definición del Modelo MILP"
   ]
  },
  {
   "cell_type": "code",
   "execution_count": null,
   "id": "2e3dec5e",
   "metadata": {
    "papermill": {
     "duration": null,
     "end_time": null,
     "exception": null,
     "start_time": null,
     "status": "pending"
    },
    "tags": []
   },
   "outputs": [],
   "source": [
    "def create_habitat_model(cells, species_list, c, h, budget, weights=None):\n",
    "    if weights is None:\n",
    "        weights = {sp: 1.0 for sp in species_list}\n",
    "    \n",
    "    model = ConcreteModel()\n",
    "    model.CELLS = Set(initialize=cells)\n",
    "    model.SPECIES = Set(initialize=species_list)\n",
    "    model.budget = Param(initialize=budget)\n",
    "    model.cost = Param(model.CELLS, model.SPECIES, initialize=c, default=0)\n",
    "    model.habitat = Param(model.CELLS, model.SPECIES, initialize=h, default=0)\n",
    "    model.weight = Param(model.SPECIES, initialize=weights, default=1.0)\n",
    "    model.x = Var(model.CELLS, model.SPECIES, within=Binary, initialize=0)\n",
    "    \n",
    "    def objective_expr(model):\n",
    "        return sum(model.weight[s] * (model.habitat[i, s] + model.x[i, s])\n",
    "                  for i in model.CELLS for s in model.SPECIES)\n",
    "    model.obj = Objective(expr=objective_expr, sense=maximize)\n",
    "    \n",
    "    def budget_constraint(model):\n",
    "        return sum(model.cost[i, s] * model.x[i, s]\n",
    "                  for i in model.CELLS for s in model.SPECIES) <= model.budget\n",
    "    model.budget_constr = Constraint(rule=budget_constraint)\n",
    "    \n",
    "    def no_duplication(model, i, s):\n",
    "        return model.x[i, s] <= (1 - model.habitat[i, s])\n",
    "    model.no_dup_constr = Constraint(model.CELLS, model.SPECIES, rule=no_duplication)\n",
    "    \n",
    "    return model\n",
    "\n",
    "print('✓ Función de modelo definida')"
   ]
  },
  {
   "cell_type": "markdown",
   "id": "d43d4edf",
   "metadata": {
    "papermill": {
     "duration": null,
     "end_time": null,
     "exception": null,
     "start_time": null,
     "status": "pending"
    },
    "tags": []
   },
   "source": [
    "## 5. Resolución del Modelo"
   ]
  },
  {
   "cell_type": "code",
   "execution_count": null,
   "id": "566dc8ec",
   "metadata": {
    "papermill": {
     "duration": null,
     "end_time": null,
     "exception": null,
     "start_time": null,
     "status": "pending"
    },
    "tags": []
   },
   "outputs": [],
   "source": [
    "BUDGET = 500.0\n",
    "weights = {'atelerix': 1.0, 'martes': 1.2, 'eliomys': 1.5, 'oryctolagus': 0.8}\n",
    "\n",
    "print(f'Presupuesto: {BUDGET}\\nPesos: {weights}\\n')\n",
    "\n",
    "model = create_habitat_model(cells, species_list, c, h, BUDGET, weights)\n",
    "print('✓ Modelo instanciado')\n",
    "\n",
    "print('🔄 Resolviendo...')\n",
    "solver = SolverFactory('glpk')\n",
    "results = solver.solve(model, tee=False)\n",
    "\n",
    "if results.solver.termination_condition == TerminationCondition.optimal:\n",
    "    print('✓ SOLUCIÓN ÓPTIMA ENCONTRADA')\n",
    "    is_optimal = True\n",
    "else:\n",
    "    print('⚠ Solución factible')\n",
    "    is_optimal = False\n",
    "\n",
    "print(f'Valor objetivo: {value(model.obj):.2f}')"
   ]
  },
  {
   "cell_type": "markdown",
   "id": "f4022ec3",
   "metadata": {
    "papermill": {
     "duration": null,
     "end_time": null,
     "exception": null,
     "start_time": null,
     "status": "pending"
    },
    "tags": []
   },
   "source": [
    "## 6. Extracción de Resultados"
   ]
  },
  {
   "cell_type": "code",
   "execution_count": null,
   "id": "e255b384",
   "metadata": {
    "papermill": {
     "duration": null,
     "end_time": null,
     "exception": null,
     "start_time": null,
     "status": "pending"
    },
    "tags": []
   },
   "outputs": [],
   "source": [
    "adaptations = []\n",
    "for i in model.CELLS:\n",
    "    for s in model.SPECIES:\n",
    "        if value(model.x[i, s]) > 0.5:\n",
    "            adaptations.append({\n",
    "                'grid_id': i, 'species': s, 'cost': c[(i, s)],\n",
    "                'current_habitat': h[(i, s)]\n",
    "            })\n",
    "\n",
    "adaptations_df = pd.DataFrame(adaptations)\n",
    "total_cost = adaptations_df['cost'].sum()\n",
    "\n",
    "print(f'✓ Celdas adaptadas: {len(adaptations_df)}')\n",
    "print(f'Coste total: {total_cost:.2f} / {BUDGET:.2f}')\n",
    "print(f'Eficiencia: {(total_cost/BUDGET)*100:.1f}%')"
   ]
  },
  {
   "cell_type": "markdown",
   "id": "ad6e9865",
   "metadata": {
    "papermill": {
     "duration": null,
     "end_time": null,
     "exception": null,
     "start_time": null,
     "status": "pending"
    },
    "tags": []
   },
   "source": [
    "## 7. Análisis por Especie"
   ]
  },
  {
   "cell_type": "code",
   "execution_count": null,
   "id": "d0b5810a",
   "metadata": {
    "papermill": {
     "duration": null,
     "end_time": null,
     "exception": null,
     "start_time": null,
     "status": "pending"
    },
    "tags": []
   },
   "outputs": [],
   "source": [
    "print('DESGLOSE POR ESPECIE:')\n",
    "for sp in species_list:\n",
    "    sp_data = adaptations_df[adaptations_df['species'] == sp]\n",
    "    current = sum(h.get((i, sp), 0) for i in cells)\n",
    "    adapted = len(sp_data)\n",
    "    total = current + adapted\n",
    "    cost_sp = sp_data['cost'].sum()\n",
    "    print(f'\\n{sp}: {current} + {adapted} = {total} ({(total/len(cells)*100):.1f}%)')\n",
    "    print(f'  Coste: {cost_sp:.2f}')"
   ]
  },
  {
   "cell_type": "markdown",
   "id": "8c551e1d",
   "metadata": {
    "papermill": {
     "duration": null,
     "end_time": null,
     "exception": null,
     "start_time": null,
     "status": "pending"
    },
    "tags": []
   },
   "source": [
    "## 8. Guardado de Resultados"
   ]
  },
  {
   "cell_type": "code",
   "execution_count": null,
   "id": "74a7758c",
   "metadata": {
    "papermill": {
     "duration": null,
     "end_time": null,
     "exception": null,
     "start_time": null,
     "status": "pending"
    },
    "tags": []
   },
   "outputs": [],
   "source": [
    "output_dir = '../../data'\n",
    "os.makedirs(output_dir, exist_ok=True)\n",
    "\n",
    "adaptations_df.to_csv(f'{output_dir}/adaptations_detailed_v0.csv', index=False)\n",
    "print(f'✓ Guardado: {output_dir}/adaptations_detailed_v0.csv')\n",
    "\n",
    "solution_metadata = {\n",
    "    'session': 'Session 2',\n",
    "    'model_version': 'v0_habitat_adaptation',\n",
    "    'date': datetime.now().isoformat(),\n",
    "    'budget': BUDGET,\n",
    "    'objective_value': float(value(model.obj)),\n",
    "    'total_cost': float(total_cost),\n",
    "    'n_adaptations': len(adaptations_df),\n",
    "    'solution_type': 'optimal' if is_optimal else 'feasible'\n",
    "}\n",
    "\n",
    "with open(f'{output_dir}/solution_metadata_v0.json', 'w') as f:\n",
    "    json.dump(solution_metadata, f, indent=2)\n",
    "print(f'✓ Guardado: {output_dir}/solution_metadata_v0.json')\n",
    "\n",
    "print('\\n✅ Session 2 completada!')"
   ]
  }
 ],
 "metadata": {
  "kernelspec": {
   "display_name": "Python 3",
   "language": "python",
   "name": "python3"
  },
  "language_info": {
   "codemirror_mode": {
    "name": "ipython",
    "version": 3
   },
   "file_extension": ".py",
   "mimetype": "text/x-python",
   "name": "python",
   "nbconvert_exporter": "python",
   "pygments_lexer": "ipython3",
   "version": "3.12.3"
  },
  "papermill": {
   "default_parameters": {},
   "duration": 2.197262,
   "end_time": "2025-10-29T08:55:49.309491",
   "environment_variables": {},
   "exception": true,
   "input_path": "notebooks/session1/session2/session2_modeling.ipynb",
   "output_path": "notebooks/session1/session2/session2_modeling_executed.ipynb",
   "parameters": {},
   "start_time": "2025-10-29T08:55:47.112229",
   "version": "2.6.0"
  }
 },
 "nbformat": 4,
 "nbformat_minor": 5
}